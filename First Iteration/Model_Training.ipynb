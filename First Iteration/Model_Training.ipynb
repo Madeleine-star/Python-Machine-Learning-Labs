{
 "cells": [
  {
   "cell_type": "markdown",
   "metadata": {},
   "source": [
    "<div style=\"text-align:center; color:green; font-weight:bold;\">\r\n",
    "   Model Training notebook.\r\n",
    "</di  "
   ]
  },
  {
   "cell_type": "markdown",
   "metadata": {},
   "source": [
    "### Importing packages"
   ]
  },
  {
   "cell_type": "code",
   "execution_count": 14,
   "metadata": {
    "id": "x_7BCjME7hsF"
   },
   "outputs": [],
   "source": [
    "import pandas as pd\n",
    "import numpy as np\n",
    "import matplotlib.pyplot as plt\n",
    "import seaborn as sns\n",
    "from sklearn.preprocessing import StandardScaler\n",
    "from sklearn.linear_model import LinearRegression\n",
    "from sklearn.ensemble import RandomForestRegressor\n",
    "from sklearn.ensemble import GradientBoostingRegressor\n",
    "import xgboost as xgb\n",
    "from sklearn.model_selection import train_test_split\n",
    "from sklearn.metrics import mean_squared_error, r2_score"
   ]
  },
  {
   "cell_type": "markdown",
   "metadata": {},
   "source": [
    "### Creating useful functions for trainning and models evalution"
   ]
  },
  {
   "cell_type": "code",
   "execution_count": 15,
   "metadata": {},
   "outputs": [],
   "source": [
    "def report(name, y_test, y_pred_test):\n",
    "    print(f'{name} Test RMSE:', mean_squared_error(y_test, y_pred_test, squared=False))\n",
    "    print(f'{name} Test R^2:', r2_score(y_test, y_pred_test))"
   ]
  },
  {
   "cell_type": "code",
   "execution_count": 16,
   "metadata": {},
   "outputs": [],
   "source": [
    "def linear_regression(X_train, y_train, show_report=True):\n",
    "    # Trainning the model\n",
    "    lr_model = LinearRegression()\n",
    "    lr_model.fit(X_train, y_train)\n",
    "\n",
    "    # Predicting\n",
    "    y_pred_test = lr_model.predict(X_test)\n",
    "    \n",
    "    # Evaluation\n",
    "    if show_report:\n",
    "        report('Linear Regression', y_test, y_pred_test)\n",
    "\n",
    "def random_forest(X_train, y_train, show_report=True):\n",
    "    # training the random forest model\n",
    "    rf_model = RandomForestRegressor(n_estimators=100, random_state=42)\n",
    "    rf_model.fit(X_train, y_train)\n",
    "\n",
    "    # using the model for prediction\n",
    "    y_pred_test = rf_model.predict(X_test)\n",
    "\n",
    "    # evaluating the model's performance\n",
    "    if show_report:\n",
    "        report('Random Forest', y_test, y_pred_test)\n",
    "\n",
    "def gradient_boost(X_train, y_train, show_report=True):\n",
    "    gb_model = GradientBoostingRegressor(n_estimators=100, random_state=42)\n",
    "    gb_model.fit(X_train, y_train)\n",
    "\n",
    "    y_pred_test = gb_model.predict(X_test)\n",
    "    \n",
    "    # evaluating the model's performance\n",
    "    if show_report:\n",
    "        report('Gradient Boost', y_test, y_pred_test)\n",
    "        \n",
    "def xgboost(X_train, y_train, show_report=True):\n",
    "    xgb_model = xgb.XGBRegressor(n_estimators=100, random_state=42)\n",
    "    xgb_model.fit(X_train, y_train)\n",
    "\n",
    "    \n",
    "    y_pred_test = xgb_model.predict(X_test)\n",
    "\n",
    "\n",
    "    if show_report:\n",
    "        report('XGBoost', y_test, y_pred_test)"
   ]
  },
  {
   "cell_type": "markdown",
   "metadata": {},
   "source": [
    "### Feature Engineering"
   ]
  },
  {
   "cell_type": "code",
   "execution_count": 17,
   "metadata": {
    "id": "reH9WxoQ8gXh"
   },
   "outputs": [],
   "source": [
    "# reading the data\n",
    "df = pd.read_csv(\"LivreDA.csv\", on_bad_lines='warn', sep=\";\")"
   ]
  },
  {
   "cell_type": "code",
   "execution_count": 18,
   "metadata": {
    "colab": {
     "base_uri": "https://localhost:8080/"
    },
    "id": "PjEOZphcLaF0",
    "outputId": "bf468472-87da-448a-feaa-8b7ae80af5a0"
   },
   "outputs": [
    {
     "name": "stdout",
     "output_type": "stream",
     "text": [
      "bookID                    0\n",
      "title                     0\n",
      "authors                   0\n",
      "average_rating            0\n",
      "isbn                      0\n",
      "language_code             0\n",
      "  num_pages               0\n",
      "ratings_count             0\n",
      "text_reviews_count        0\n",
      "publication_date          0\n",
      "publisher                 0\n",
      "Unnamed: 11           11071\n",
      "dtype: int64\n"
     ]
    }
   ],
   "source": [
    "# verifying if there is no null values\n",
    "print(df.isnull().sum())"
   ]
  },
  {
   "cell_type": "markdown",
   "metadata": {
    "id": "NWVDXIuxn2q-"
   },
   "source": [
    "Adding new column that represents autors"
   ]
  },
  {
   "cell_type": "code",
   "execution_count": 19,
   "metadata": {
    "colab": {
     "base_uri": "https://localhost:8080/",
     "height": 1000
    },
    "id": "dE_bRIem8qEo",
    "outputId": "e1b82faf-6c68-41bd-8a7c-25db9efb3ebc"
   },
   "outputs": [
    {
     "data": {
      "text/html": [
       "<div>\n",
       "<style scoped>\n",
       "    .dataframe tbody tr th:only-of-type {\n",
       "        vertical-align: middle;\n",
       "    }\n",
       "\n",
       "    .dataframe tbody tr th {\n",
       "        vertical-align: top;\n",
       "    }\n",
       "\n",
       "    .dataframe thead th {\n",
       "        text-align: right;\n",
       "    }\n",
       "</style>\n",
       "<table border=\"1\" class=\"dataframe\">\n",
       "  <thead>\n",
       "    <tr style=\"text-align: right;\">\n",
       "      <th></th>\n",
       "      <th>bookID</th>\n",
       "      <th>title</th>\n",
       "      <th>authors</th>\n",
       "      <th>average_rating</th>\n",
       "      <th>isbn</th>\n",
       "      <th>language_code</th>\n",
       "      <th>num_pages</th>\n",
       "      <th>ratings_count</th>\n",
       "      <th>text_reviews_count</th>\n",
       "      <th>publication_date</th>\n",
       "      <th>publisher</th>\n",
       "      <th>Unnamed: 11</th>\n",
       "    </tr>\n",
       "  </thead>\n",
       "  <tbody>\n",
       "    <tr>\n",
       "      <th>0</th>\n",
       "      <td>1</td>\n",
       "      <td>Harry Potter and the Half-Blood Prince (Harry ...</td>\n",
       "      <td>J.K. Rowling/Mary GrandPré</td>\n",
       "      <td>4.57</td>\n",
       "      <td>439785960</td>\n",
       "      <td>eng</td>\n",
       "      <td>652</td>\n",
       "      <td>2095690</td>\n",
       "      <td>27591</td>\n",
       "      <td>9/16/2006</td>\n",
       "      <td>Scholastic Inc.</td>\n",
       "      <td>NaN</td>\n",
       "    </tr>\n",
       "    <tr>\n",
       "      <th>1</th>\n",
       "      <td>2</td>\n",
       "      <td>Harry Potter and the Order of the Phoenix (Har...</td>\n",
       "      <td>J.K. Rowling/Mary GrandPré</td>\n",
       "      <td>4.49</td>\n",
       "      <td>439358078</td>\n",
       "      <td>eng</td>\n",
       "      <td>870</td>\n",
       "      <td>2153167</td>\n",
       "      <td>29221</td>\n",
       "      <td>09/01/2004</td>\n",
       "      <td>Scholastic Inc.</td>\n",
       "      <td>NaN</td>\n",
       "    </tr>\n",
       "  </tbody>\n",
       "</table>\n",
       "</div>"
      ],
      "text/plain": [
       "   bookID                                              title  \\\n",
       "0       1  Harry Potter and the Half-Blood Prince (Harry ...   \n",
       "1       2  Harry Potter and the Order of the Phoenix (Har...   \n",
       "\n",
       "                      authors  average_rating       isbn language_code  \\\n",
       "0  J.K. Rowling/Mary GrandPré            4.57  439785960           eng   \n",
       "1  J.K. Rowling/Mary GrandPré            4.49  439358078           eng   \n",
       "\n",
       "     num_pages  ratings_count  text_reviews_count publication_date  \\\n",
       "0          652        2095690               27591        9/16/2006   \n",
       "1          870        2153167               29221       09/01/2004   \n",
       "\n",
       "         publisher  Unnamed: 11  \n",
       "0  Scholastic Inc.          NaN  \n",
       "1  Scholastic Inc.          NaN  "
      ]
     },
     "execution_count": 19,
     "metadata": {},
     "output_type": "execute_result"
    }
   ],
   "source": [
    "# printing the dataframe head (only two rows)\n",
    "df.head(2)"
   ]
  },
  {
   "cell_type": "code",
   "execution_count": 20,
   "metadata": {},
   "outputs": [],
   "source": [
    "# droping the useless column 'Unnamed: 11'\n",
    "df=df.drop(columns=['Unnamed: 11'])"
   ]
  },
  {
   "cell_type": "code",
   "execution_count": 21,
   "metadata": {
    "id": "t2g6bFH2qLjN"
   },
   "outputs": [],
   "source": [
    "# converting publication date to datetime with error handling\n",
    "df['publication_date'] = pd.to_datetime(df['publication_date'], format=\"%m/%d/%Y\", errors='coerce')\n",
    "\n",
    "# Parsing different date formats\n",
    "formats = [\"%m/%d/%Y\", \"%d/%m/%Y\"]\n",
    "for fmt in formats:\n",
    "    temp_dates = pd.to_datetime(df['publication_date'], format=fmt, errors='coerce')\n",
    "    df['publication_date'] = df['publication_date'].combine_first(temp_dates)"
   ]
  },
  {
   "cell_type": "code",
   "execution_count": 22,
   "metadata": {
    "colab": {
     "base_uri": "https://localhost:8080/"
    },
    "id": "OiZR5o3TpZSY",
    "outputId": "1d3048ab-80d1-4387-f5ad-e54090a7f5d3"
   },
   "outputs": [
    {
     "data": {
      "text/plain": [
       "0       2006-09-16\n",
       "1       2004-09-01\n",
       "2       2003-11-01\n",
       "3       2004-05-01\n",
       "4       2004-09-13\n",
       "           ...    \n",
       "11066   2004-12-21\n",
       "11067   1988-12-01\n",
       "11068   1993-08-01\n",
       "11069   2007-02-27\n",
       "11070   2006-05-28\n",
       "Name: publication_date, Length: 11071, dtype: datetime64[ns]"
      ]
     },
     "execution_count": 22,
     "metadata": {},
     "output_type": "execute_result"
    }
   ],
   "source": [
    "df['publication_date']"
   ]
  },
  {
   "cell_type": "code",
   "execution_count": 23,
   "metadata": {
    "colab": {
     "base_uri": "https://localhost:8080/",
     "height": 305
    },
    "id": "bvAcY7VtM5tU",
    "outputId": "ec2c1e03-1165-4bc7-8081-af146b39db63"
   },
   "outputs": [
    {
     "data": {
      "text/html": [
       "<div>\n",
       "<style scoped>\n",
       "    .dataframe tbody tr th:only-of-type {\n",
       "        vertical-align: middle;\n",
       "    }\n",
       "\n",
       "    .dataframe tbody tr th {\n",
       "        vertical-align: top;\n",
       "    }\n",
       "\n",
       "    .dataframe thead th {\n",
       "        text-align: right;\n",
       "    }\n",
       "</style>\n",
       "<table border=\"1\" class=\"dataframe\">\n",
       "  <thead>\n",
       "    <tr style=\"text-align: right;\">\n",
       "      <th></th>\n",
       "      <th>bookID</th>\n",
       "      <th>title</th>\n",
       "      <th>authors</th>\n",
       "      <th>average_rating</th>\n",
       "      <th>isbn</th>\n",
       "      <th>language_code</th>\n",
       "      <th>num_pages</th>\n",
       "      <th>ratings_count</th>\n",
       "      <th>text_reviews_count</th>\n",
       "      <th>publication_date</th>\n",
       "      <th>publisher</th>\n",
       "    </tr>\n",
       "  </thead>\n",
       "  <tbody>\n",
       "    <tr>\n",
       "      <th>8146</th>\n",
       "      <td>31373</td>\n",
       "      <td>In Pursuit of the Proper Sinner (Inspector Lyn...</td>\n",
       "      <td>Elizabeth  George</td>\n",
       "      <td>4.10</td>\n",
       "      <td>553575104</td>\n",
       "      <td>eng</td>\n",
       "      <td>718</td>\n",
       "      <td>10608</td>\n",
       "      <td>295</td>\n",
       "      <td>NaT</td>\n",
       "      <td>Bantam Books</td>\n",
       "    </tr>\n",
       "    <tr>\n",
       "      <th>11042</th>\n",
       "      <td>45531</td>\n",
       "      <td>Montaillou  village occitan de 1294 à 1324</td>\n",
       "      <td>Emmanuel Le Roy Ladurie/Emmanuel Le Roy-Ladurie</td>\n",
       "      <td>3.96</td>\n",
       "      <td>2070323285</td>\n",
       "      <td>fre</td>\n",
       "      <td>640</td>\n",
       "      <td>15</td>\n",
       "      <td>2</td>\n",
       "      <td>NaT</td>\n",
       "      <td>Folio histoire</td>\n",
       "    </tr>\n",
       "  </tbody>\n",
       "</table>\n",
       "</div>"
      ],
      "text/plain": [
       "       bookID                                              title  \\\n",
       "8146    31373  In Pursuit of the Proper Sinner (Inspector Lyn...   \n",
       "11042   45531         Montaillou  village occitan de 1294 à 1324   \n",
       "\n",
       "                                               authors  average_rating  \\\n",
       "8146                                 Elizabeth  George            4.10   \n",
       "11042  Emmanuel Le Roy Ladurie/Emmanuel Le Roy-Ladurie            3.96   \n",
       "\n",
       "             isbn language_code    num_pages  ratings_count  \\\n",
       "8146    553575104           eng          718          10608   \n",
       "11042  2070323285           fre          640             15   \n",
       "\n",
       "       text_reviews_count publication_date       publisher  \n",
       "8146                  295              NaT    Bantam Books  \n",
       "11042                   2              NaT  Folio histoire  "
      ]
     },
     "execution_count": 23,
     "metadata": {},
     "output_type": "execute_result"
    }
   ],
   "source": [
    "df[df['publication_date'].isna()]"
   ]
  },
  {
   "cell_type": "code",
   "execution_count": 24,
   "metadata": {},
   "outputs": [],
   "source": [
    "# dropping the rows where publication date is nan after conversion to datetime\n",
    "df.drop([8146,11042], inplace = True)"
   ]
  },
  {
   "cell_type": "code",
   "execution_count": 25,
   "metadata": {},
   "outputs": [
    {
     "data": {
      "text/plain": [
       "bookID                0\n",
       "title                 0\n",
       "authors               0\n",
       "average_rating        0\n",
       "isbn                  0\n",
       "language_code         0\n",
       "  num_pages           0\n",
       "ratings_count         0\n",
       "text_reviews_count    0\n",
       "publication_date      0\n",
       "publisher             0\n",
       "dtype: int64"
      ]
     },
     "execution_count": 25,
     "metadata": {},
     "output_type": "execute_result"
    }
   ],
   "source": [
    "df.isna().sum()"
   ]
  },
  {
   "cell_type": "code",
   "execution_count": 26,
   "metadata": {
    "colab": {
     "base_uri": "https://localhost:8080/",
     "height": 868
    },
    "id": "zT5m2cE5G1mC",
    "outputId": "1739a02b-d6bc-4c80-cee6-54296d0e7f74"
   },
   "outputs": [
    {
     "data": {
      "image/png": "[encoded data removed]",
      "text/plain": [
       "<Figure size 1000x800 with 2 Axes>"
      ]
     },
     "metadata": {},
     "output_type": "display_data"
    }
   ],
   "source": [
    "# Calculating correlation matrix before adding any numerical columns\n",
    "correlation_matrix = df[['average_rating', 'ratings_count', 'text_reviews_count', \"publication_date\", \"  num_pages\"]].corr()\n",
    "\n",
    "plt.figure(figsize=(10, 8))\n",
    "sns.heatmap(correlation_matrix, annot=True, cmap='coolwarm')\n",
    "plt.title('Correlation Matrix')\n",
    "plt.show()"
   ]
  },
  {
   "cell_type": "markdown",
   "metadata": {},
   "source": [
    "<span style=\"color:orange; font-weight:bold\">We can see that average rating does not have a high correlation with any of the numerical column, a small correlation with num_pages of 0.15\n",
    "</span>"
   ]
  },
  {
   "cell_type": "markdown",
   "metadata": {},
   "source": [
    "#### Adding numerical columns"
   ]
  },
  {
   "cell_type": "code",
   "execution_count": 27,
   "metadata": {
    "id": "UNCH9Epbrbze"
   },
   "outputs": [],
   "source": [
    "train_data = df.copy()"
   ]
  },
  {
   "cell_type": "code",
   "execution_count": 28,
   "metadata": {
    "id": "N5DAoA8Znx3y"
   },
   "outputs": [],
   "source": [
    "author_counts = train_data['authors'].value_counts().to_dict()\n",
    "train_data['author_popularity'] = df['authors'].map(author_counts)"
   ]
  },
  {
   "cell_type": "code",
   "execution_count": 29,
   "metadata": {
    "id": "42bDga5aM1Ua",
    "scrolled": true
   },
   "outputs": [],
   "source": [
    "train_data['publication_year'] = pd.to_datetime(df['publication_date']).dt.year.astype(int)\n",
    "train_data['publication_month'] = pd.to_datetime(df['publication_date']).dt.month.astype(int)\n",
    "train_data['publication_day'] = pd.to_datetime(df['publication_date']).dt.day.astype(int)"
   ]
  },
  {
   "cell_type": "code",
   "execution_count": 30,
   "metadata": {
    "id": "aF0ccDdrPpNU"
   },
   "outputs": [],
   "source": [
    "train_data['publisher_freq'] = train_data['publisher'].map(train_data['publisher'].value_counts()) / len(train_data)"
   ]
  },
  {
   "cell_type": "code",
   "execution_count": 32,
   "metadata": {
    "id": "sa1gUMVPWR2W"
   },
   "outputs": [],
   "source": [
    "train_data['title_length'] = train_data['title'].apply(len)"
   ]
  },
  {
   "cell_type": "code",
   "execution_count": 33,
   "metadata": {
    "colab": {
     "base_uri": "https://localhost:8080/"
    },
    "id": "Fak5a1VjUm_Y",
    "outputId": "546cbe65-db9f-4eb7-86a1-b81872a79fa1"
   },
   "outputs": [
    {
     "data": {
      "text/plain": [
       "Index(['bookID', 'title', 'authors', 'average_rating', 'isbn', 'language_code',\n",
       "       '  num_pages', 'ratings_count', 'text_reviews_count',\n",
       "       'publication_date', 'publisher', 'author_popularity',\n",
       "       'publication_year', 'publication_month', 'publication_day',\n",
       "       'publisher_freq', 'title_length'],\n",
       "      dtype='object')"
      ]
     },
     "execution_count": 33,
     "metadata": {},
     "output_type": "execute_result"
    }
   ],
   "source": [
    "train_data.columns"
   ]
  },
  {
   "cell_type": "code",
   "execution_count": 34,
   "metadata": {},
   "outputs": [
    {
     "data": {
      "text/html": [
       "<div>\n",
       "<style scoped>\n",
       "    .dataframe tbody tr th:only-of-type {\n",
       "        vertical-align: middle;\n",
       "    }\n",
       "\n",
       "    .dataframe tbody tr th {\n",
       "        vertical-align: top;\n",
       "    }\n",
       "\n",
       "    .dataframe thead th {\n",
       "        text-align: right;\n",
       "    }\n",
       "</style>\n",
       "<table border=\"1\" class=\"dataframe\">\n",
       "  <thead>\n",
       "    <tr style=\"text-align: right;\">\n",
       "      <th></th>\n",
       "      <th>average_rating</th>\n",
       "      <th>title_length</th>\n",
       "      <th>publisher_freq</th>\n",
       "      <th>publication_year</th>\n",
       "      <th>publication_month</th>\n",
       "      <th>publication_day</th>\n",
       "      <th>num_pages</th>\n",
       "    </tr>\n",
       "  </thead>\n",
       "  <tbody>\n",
       "    <tr>\n",
       "      <th>count</th>\n",
       "      <td>11069.000000</td>\n",
       "      <td>11069.000000</td>\n",
       "      <td>11069.000000</td>\n",
       "      <td>11069.000000</td>\n",
       "      <td>11069.000000</td>\n",
       "      <td>11069.000000</td>\n",
       "      <td>11069.000000</td>\n",
       "    </tr>\n",
       "    <tr>\n",
       "      <th>mean</th>\n",
       "      <td>3.933431</td>\n",
       "      <td>35.659680</td>\n",
       "      <td>0.004232</td>\n",
       "      <td>2000.157015</td>\n",
       "      <td>6.542777</td>\n",
       "      <td>11.260909</td>\n",
       "      <td>336.206613</td>\n",
       "    </tr>\n",
       "    <tr>\n",
       "      <th>std</th>\n",
       "      <td>0.350800</td>\n",
       "      <td>23.587661</td>\n",
       "      <td>0.006330</td>\n",
       "      <td>8.258972</td>\n",
       "      <td>3.413326</td>\n",
       "      <td>10.280422</td>\n",
       "      <td>241.141466</td>\n",
       "    </tr>\n",
       "    <tr>\n",
       "      <th>min</th>\n",
       "      <td>0.000000</td>\n",
       "      <td>2.000000</td>\n",
       "      <td>0.000090</td>\n",
       "      <td>1900.000000</td>\n",
       "      <td>1.000000</td>\n",
       "      <td>1.000000</td>\n",
       "      <td>0.000000</td>\n",
       "    </tr>\n",
       "    <tr>\n",
       "      <th>25%</th>\n",
       "      <td>3.770000</td>\n",
       "      <td>18.000000</td>\n",
       "      <td>0.000452</td>\n",
       "      <td>1998.000000</td>\n",
       "      <td>4.000000</td>\n",
       "      <td>1.000000</td>\n",
       "      <td>192.000000</td>\n",
       "    </tr>\n",
       "    <tr>\n",
       "      <th>50%</th>\n",
       "      <td>3.960000</td>\n",
       "      <td>30.000000</td>\n",
       "      <td>0.001717</td>\n",
       "      <td>2003.000000</td>\n",
       "      <td>7.000000</td>\n",
       "      <td>8.000000</td>\n",
       "      <td>299.000000</td>\n",
       "    </tr>\n",
       "    <tr>\n",
       "      <th>75%</th>\n",
       "      <td>4.130000</td>\n",
       "      <td>47.000000</td>\n",
       "      <td>0.005059</td>\n",
       "      <td>2005.000000</td>\n",
       "      <td>9.000000</td>\n",
       "      <td>20.000000</td>\n",
       "      <td>416.000000</td>\n",
       "    </tr>\n",
       "    <tr>\n",
       "      <th>max</th>\n",
       "      <td>5.000000</td>\n",
       "      <td>254.000000</td>\n",
       "      <td>0.028729</td>\n",
       "      <td>2020.000000</td>\n",
       "      <td>12.000000</td>\n",
       "      <td>31.000000</td>\n",
       "      <td>6576.000000</td>\n",
       "    </tr>\n",
       "  </tbody>\n",
       "</table>\n",
       "</div>"
      ],
      "text/plain": [
       "       average_rating  title_length  publisher_freq  publication_year  \\\n",
       "count    11069.000000  11069.000000    11069.000000      11069.000000   \n",
       "mean         3.933431     35.659680        0.004232       2000.157015   \n",
       "std          0.350800     23.587661        0.006330          8.258972   \n",
       "min          0.000000      2.000000        0.000090       1900.000000   \n",
       "25%          3.770000     18.000000        0.000452       1998.000000   \n",
       "50%          3.960000     30.000000        0.001717       2003.000000   \n",
       "75%          4.130000     47.000000        0.005059       2005.000000   \n",
       "max          5.000000    254.000000        0.028729       2020.000000   \n",
       "\n",
       "       publication_month  publication_day     num_pages  \n",
       "count       11069.000000     11069.000000  11069.000000  \n",
       "mean            6.542777        11.260909    336.206613  \n",
       "std             3.413326        10.280422    241.141466  \n",
       "min             1.000000         1.000000      0.000000  \n",
       "25%             4.000000         1.000000    192.000000  \n",
       "50%             7.000000         8.000000    299.000000  \n",
       "75%             9.000000        20.000000    416.000000  \n",
       "max            12.000000        31.000000   6576.000000  "
      ]
     },
     "execution_count": 34,
     "metadata": {},
     "output_type": "execute_result"
    }
   ],
   "source": [
    "train_data[['average_rating', 'title_length', 'publisher_freq', 'publication_year','publication_month', 'publication_day', '  num_pages']].describe()"
   ]
  },
  {
   "cell_type": "markdown",
   "metadata": {},
   "source": [
    "* The num of pages column seem to have some outliers, we will check and remove for book with less than 10 pages"
   ]
  },
  {
   "cell_type": "code",
   "execution_count": 35,
   "metadata": {},
   "outputs": [
    {
     "data": {
      "text/html": [
       "<div>\n",
       "<style scoped>\n",
       "    .dataframe tbody tr th:only-of-type {\n",
       "        vertical-align: middle;\n",
       "    }\n",
       "\n",
       "    .dataframe tbody tr th {\n",
       "        vertical-align: top;\n",
       "    }\n",
       "\n",
       "    .dataframe thead th {\n",
       "        text-align: right;\n",
       "    }\n",
       "</style>\n",
       "<table border=\"1\" class=\"dataframe\">\n",
       "  <thead>\n",
       "    <tr style=\"text-align: right;\">\n",
       "      <th></th>\n",
       "      <th>bookID</th>\n",
       "      <th>title</th>\n",
       "      <th>authors</th>\n",
       "      <th>average_rating</th>\n",
       "      <th>isbn</th>\n",
       "      <th>language_code</th>\n",
       "      <th>num_pages</th>\n",
       "      <th>ratings_count</th>\n",
       "      <th>text_reviews_count</th>\n",
       "      <th>publication_date</th>\n",
       "      <th>publisher</th>\n",
       "      <th>author_popularity</th>\n",
       "      <th>publication_year</th>\n",
       "      <th>publication_month</th>\n",
       "      <th>publication_day</th>\n",
       "      <th>publisher_freq</th>\n",
       "      <th>title_length</th>\n",
       "    </tr>\n",
       "  </thead>\n",
       "  <tbody>\n",
       "    <tr>\n",
       "      <th>10</th>\n",
       "      <td>16</td>\n",
       "      <td>The Hitchhiker's Guide to the Galaxy (Hitchhik...</td>\n",
       "      <td>Douglas Adams/Stephen Fry</td>\n",
       "      <td>4.22</td>\n",
       "      <td>739322206</td>\n",
       "      <td>eng</td>\n",
       "      <td>6</td>\n",
       "      <td>1266</td>\n",
       "      <td>253</td>\n",
       "      <td>2005-03-23</td>\n",
       "      <td>Random House Audio</td>\n",
       "      <td>1</td>\n",
       "      <td>2005</td>\n",
       "      <td>3</td>\n",
       "      <td>23</td>\n",
       "      <td>0.002981</td>\n",
       "      <td>75</td>\n",
       "    </tr>\n",
       "    <tr>\n",
       "      <th>215</th>\n",
       "      <td>524</td>\n",
       "      <td>Lord of the Flies</td>\n",
       "      <td>William Golding</td>\n",
       "      <td>3.68</td>\n",
       "      <td>307281701</td>\n",
       "      <td>eng</td>\n",
       "      <td>6</td>\n",
       "      <td>408</td>\n",
       "      <td>96</td>\n",
       "      <td>2005-10-11</td>\n",
       "      <td>Listening Library (Audio)</td>\n",
       "      <td>5</td>\n",
       "      <td>2005</td>\n",
       "      <td>10</td>\n",
       "      <td>11</td>\n",
       "      <td>0.000452</td>\n",
       "      <td>17</td>\n",
       "    </tr>\n",
       "    <tr>\n",
       "      <th>306</th>\n",
       "      <td>955</td>\n",
       "      <td>The 5 Love Languages / The 5 Love Languages Jo...</td>\n",
       "      <td>Gary Chapman</td>\n",
       "      <td>4.70</td>\n",
       "      <td>802415318</td>\n",
       "      <td>eng</td>\n",
       "      <td>0</td>\n",
       "      <td>22</td>\n",
       "      <td>4</td>\n",
       "      <td>2005-01-01</td>\n",
       "      <td>Moody Publishers</td>\n",
       "      <td>1</td>\n",
       "      <td>2005</td>\n",
       "      <td>1</td>\n",
       "      <td>1</td>\n",
       "      <td>0.000542</td>\n",
       "      <td>51</td>\n",
       "    </tr>\n",
       "    <tr>\n",
       "      <th>324</th>\n",
       "      <td>1053</td>\n",
       "      <td>The Richest Man in Babylon</td>\n",
       "      <td>George S. Clason</td>\n",
       "      <td>4.26</td>\n",
       "      <td>1419349996</td>\n",
       "      <td>eng</td>\n",
       "      <td>4</td>\n",
       "      <td>86</td>\n",
       "      <td>15</td>\n",
       "      <td>2005-06-17</td>\n",
       "      <td>Recorded Books  Inc.</td>\n",
       "      <td>2</td>\n",
       "      <td>2005</td>\n",
       "      <td>6</td>\n",
       "      <td>17</td>\n",
       "      <td>0.000542</td>\n",
       "      <td>26</td>\n",
       "    </tr>\n",
       "    <tr>\n",
       "      <th>329</th>\n",
       "      <td>1090</td>\n",
       "      <td>Purpose Driven Life - For Commuters: What on E...</td>\n",
       "      <td>Rick Warren</td>\n",
       "      <td>3.93</td>\n",
       "      <td>310258979</td>\n",
       "      <td>eng</td>\n",
       "      <td>5</td>\n",
       "      <td>26</td>\n",
       "      <td>2</td>\n",
       "      <td>2005-03-15</td>\n",
       "      <td>Zondervan</td>\n",
       "      <td>2</td>\n",
       "      <td>2005</td>\n",
       "      <td>3</td>\n",
       "      <td>15</td>\n",
       "      <td>0.001174</td>\n",
       "      <td>65</td>\n",
       "    </tr>\n",
       "    <tr>\n",
       "      <th>...</th>\n",
       "      <td>...</td>\n",
       "      <td>...</td>\n",
       "      <td>...</td>\n",
       "      <td>...</td>\n",
       "      <td>...</td>\n",
       "      <td>...</td>\n",
       "      <td>...</td>\n",
       "      <td>...</td>\n",
       "      <td>...</td>\n",
       "      <td>...</td>\n",
       "      <td>...</td>\n",
       "      <td>...</td>\n",
       "      <td>...</td>\n",
       "      <td>...</td>\n",
       "      <td>...</td>\n",
       "      <td>...</td>\n",
       "      <td>...</td>\n",
       "    </tr>\n",
       "    <tr>\n",
       "      <th>10917</th>\n",
       "      <td>44979</td>\n",
       "      <td>Howards End</td>\n",
       "      <td>E.M. Forster/Nadia May</td>\n",
       "      <td>3.96</td>\n",
       "      <td>786168471</td>\n",
       "      <td>eng</td>\n",
       "      <td>9</td>\n",
       "      <td>32</td>\n",
       "      <td>16</td>\n",
       "      <td>2007-06-01</td>\n",
       "      <td>Blackstone Audiobooks</td>\n",
       "      <td>1</td>\n",
       "      <td>2007</td>\n",
       "      <td>6</td>\n",
       "      <td>1</td>\n",
       "      <td>0.000994</td>\n",
       "      <td>11</td>\n",
       "    </tr>\n",
       "    <tr>\n",
       "      <th>10952</th>\n",
       "      <td>45161</td>\n",
       "      <td>The Roald Dahl Audio Collection</td>\n",
       "      <td>Roald Dahl</td>\n",
       "      <td>4.41</td>\n",
       "      <td>61214965</td>\n",
       "      <td>en-US</td>\n",
       "      <td>4</td>\n",
       "      <td>199</td>\n",
       "      <td>36</td>\n",
       "      <td>2007-02-20</td>\n",
       "      <td>HarperCollins Publishers</td>\n",
       "      <td>16</td>\n",
       "      <td>2007</td>\n",
       "      <td>2</td>\n",
       "      <td>20</td>\n",
       "      <td>0.004246</td>\n",
       "      <td>31</td>\n",
       "    </tr>\n",
       "    <tr>\n",
       "      <th>11024</th>\n",
       "      <td>45465</td>\n",
       "      <td>Artemis Fowl (Artemis Fowl  #1)</td>\n",
       "      <td>Eoin Colfer/Nathaniel Parker</td>\n",
       "      <td>3.84</td>\n",
       "      <td>1400085918</td>\n",
       "      <td>eng</td>\n",
       "      <td>6</td>\n",
       "      <td>55</td>\n",
       "      <td>14</td>\n",
       "      <td>2004-04-06</td>\n",
       "      <td>Listening Library</td>\n",
       "      <td>1</td>\n",
       "      <td>2004</td>\n",
       "      <td>4</td>\n",
       "      <td>6</td>\n",
       "      <td>0.000271</td>\n",
       "      <td>31</td>\n",
       "    </tr>\n",
       "    <tr>\n",
       "      <th>11025</th>\n",
       "      <td>45472</td>\n",
       "      <td>Treasury of American Tall Tales: Volume 1: Dav...</td>\n",
       "      <td>David Bromberg/Jay Ungar/Molly Mason/Garrison ...</td>\n",
       "      <td>3.86</td>\n",
       "      <td>739336509</td>\n",
       "      <td>eng</td>\n",
       "      <td>0</td>\n",
       "      <td>36</td>\n",
       "      <td>9</td>\n",
       "      <td>2006-08-22</td>\n",
       "      <td>Listening Library (Audio)</td>\n",
       "      <td>1</td>\n",
       "      <td>2006</td>\n",
       "      <td>8</td>\n",
       "      <td>22</td>\n",
       "      <td>0.000452</td>\n",
       "      <td>117</td>\n",
       "    </tr>\n",
       "    <tr>\n",
       "      <th>11028</th>\n",
       "      <td>45485</td>\n",
       "      <td>The Subtle Knife (His Dark Materials  #2)</td>\n",
       "      <td>Philip Pullman</td>\n",
       "      <td>4.13</td>\n",
       "      <td>807210471</td>\n",
       "      <td>eng</td>\n",
       "      <td>8</td>\n",
       "      <td>39</td>\n",
       "      <td>8</td>\n",
       "      <td>2000-01-28</td>\n",
       "      <td>Listening Library</td>\n",
       "      <td>9</td>\n",
       "      <td>2000</td>\n",
       "      <td>1</td>\n",
       "      <td>28</td>\n",
       "      <td>0.000271</td>\n",
       "      <td>41</td>\n",
       "    </tr>\n",
       "  </tbody>\n",
       "</table>\n",
       "<p>194 rows × 17 columns</p>\n",
       "</div>"
      ],
      "text/plain": [
       "       bookID                                              title  \\\n",
       "10         16  The Hitchhiker's Guide to the Galaxy (Hitchhik...   \n",
       "215       524                                  Lord of the Flies   \n",
       "306       955  The 5 Love Languages / The 5 Love Languages Jo...   \n",
       "324      1053                         The Richest Man in Babylon   \n",
       "329      1090  Purpose Driven Life - For Commuters: What on E...   \n",
       "...       ...                                                ...   \n",
       "10917   44979                                        Howards End   \n",
       "10952   45161                    The Roald Dahl Audio Collection   \n",
       "11024   45465                    Artemis Fowl (Artemis Fowl  #1)   \n",
       "11025   45472  Treasury of American Tall Tales: Volume 1: Dav...   \n",
       "11028   45485          The Subtle Knife (His Dark Materials  #2)   \n",
       "\n",
       "                                                 authors  average_rating  \\\n",
       "10                             Douglas Adams/Stephen Fry            4.22   \n",
       "215                                      William Golding            3.68   \n",
       "306                                         Gary Chapman            4.70   \n",
       "324                                     George S. Clason            4.26   \n",
       "329                                          Rick Warren            3.93   \n",
       "...                                                  ...             ...   \n",
       "10917                             E.M. Forster/Nadia May            3.96   \n",
       "10952                                         Roald Dahl            4.41   \n",
       "11024                       Eoin Colfer/Nathaniel Parker            3.84   \n",
       "11025  David Bromberg/Jay Ungar/Molly Mason/Garrison ...            3.86   \n",
       "11028                                     Philip Pullman            4.13   \n",
       "\n",
       "             isbn language_code    num_pages  ratings_count  \\\n",
       "10      739322206           eng            6           1266   \n",
       "215     307281701           eng            6            408   \n",
       "306     802415318           eng            0             22   \n",
       "324    1419349996           eng            4             86   \n",
       "329     310258979           eng            5             26   \n",
       "...           ...           ...          ...            ...   \n",
       "10917   786168471           eng            9             32   \n",
       "10952    61214965         en-US            4            199   \n",
       "11024  1400085918           eng            6             55   \n",
       "11025   739336509           eng            0             36   \n",
       "11028   807210471           eng            8             39   \n",
       "\n",
       "       text_reviews_count publication_date                  publisher  \\\n",
       "10                    253       2005-03-23         Random House Audio   \n",
       "215                    96       2005-10-11  Listening Library (Audio)   \n",
       "306                     4       2005-01-01           Moody Publishers   \n",
       "324                    15       2005-06-17       Recorded Books  Inc.   \n",
       "329                     2       2005-03-15                  Zondervan   \n",
       "...                   ...              ...                        ...   \n",
       "10917                  16       2007-06-01      Blackstone Audiobooks   \n",
       "10952                  36       2007-02-20   HarperCollins Publishers   \n",
       "11024                  14       2004-04-06          Listening Library   \n",
       "11025                   9       2006-08-22  Listening Library (Audio)   \n",
       "11028                   8       2000-01-28          Listening Library   \n",
       "\n",
       "       author_popularity  publication_year  publication_month  \\\n",
       "10                     1              2005                  3   \n",
       "215                    5              2005                 10   \n",
       "306                    1              2005                  1   \n",
       "324                    2              2005                  6   \n",
       "329                    2              2005                  3   \n",
       "...                  ...               ...                ...   \n",
       "10917                  1              2007                  6   \n",
       "10952                 16              2007                  2   \n",
       "11024                  1              2004                  4   \n",
       "11025                  1              2006                  8   \n",
       "11028                  9              2000                  1   \n",
       "\n",
       "       publication_day  publisher_freq  title_length  \n",
       "10                  23        0.002981            75  \n",
       "215                 11        0.000452            17  \n",
       "306                  1        0.000542            51  \n",
       "324                 17        0.000542            26  \n",
       "329                 15        0.001174            65  \n",
       "...                ...             ...           ...  \n",
       "10917                1        0.000994            11  \n",
       "10952               20        0.004246            31  \n",
       "11024                6        0.000271            31  \n",
       "11025               22        0.000452           117  \n",
       "11028               28        0.000271            41  \n",
       "\n",
       "[194 rows x 17 columns]"
      ]
     },
     "execution_count": 35,
     "metadata": {},
     "output_type": "execute_result"
    }
   ],
   "source": [
    "# showing the books with less than 10 pages\n",
    "train_data[train_data['  num_pages'] <10]"
   ]
  },
  {
   "cell_type": "code",
   "execution_count": 36,
   "metadata": {},
   "outputs": [],
   "source": [
    "# removing books with less than 10 pages\n",
    "train_data=train_data[train_data['  num_pages'] >10]"
   ]
  },
  {
   "cell_type": "code",
   "execution_count": 37,
   "metadata": {
    "colab": {
     "base_uri": "https://localhost:8080/",
     "height": 868
    },
    "id": "uoMeqm__TpVW",
    "outputId": "e10916f4-d731-4184-a3cf-ed26bb21c8b9"
   },
   "outputs": [
    {
     "data": {
      "image/png": "[encoded data removed]",
      "text/plain": [
       "<Figure size 1000x800 with 2 Axes>"
      ]
     },
     "metadata": {},
     "output_type": "display_data"
    }
   ],
   "source": [
    "# Correlation matrix after adding multiple numerical columns\n",
    "correlation_matrix = train_data[[ 'average_rating','ratings_count', 'text_reviews_count','title_length', 'publisher_freq', 'publication_year','publication_month', 'publication_day', '  num_pages']].corr()\n",
    "\n",
    "plt.figure(figsize=(10, 8))\n",
    "sns.heatmap(correlation_matrix, annot=True, cmap='coolwarm')\n",
    "plt.title('Correlation Matrix')\n",
    "plt.show()"
   ]
  },
  {
   "cell_type": "markdown",
   "metadata": {},
   "source": [
    "- We can see than still the correlation with average rating is low"
   ]
  },
  {
   "cell_type": "code",
   "execution_count": 38,
   "metadata": {},
   "outputs": [],
   "source": [
    "# we are only keeping the year month and day and dropping the date"
   ]
  },
  {
   "cell_type": "code",
   "execution_count": 39,
   "metadata": {
    "id": "uT88hD3MPGtL"
   },
   "outputs": [],
   "source": [
    "train_data=train_data.drop(['publication_date'], axis=1)"
   ]
  },
  {
   "cell_type": "code",
   "execution_count": 40,
   "metadata": {
    "colab": {
     "base_uri": "https://localhost:8080/"
    },
    "id": "NrOlZIy7PkEl",
    "outputId": "58eac305-d99f-418d-f7fd-8e68b06e816a"
   },
   "outputs": [
    {
     "data": {
      "text/plain": [
       "Index(['bookID', 'title', 'authors', 'average_rating', 'isbn', 'language_code',\n",
       "       '  num_pages', 'ratings_count', 'text_reviews_count', 'publisher',\n",
       "       'author_popularity', 'publication_year', 'publication_month',\n",
       "       'publication_day', 'publisher_freq', 'title_length'],\n",
       "      dtype='object')"
      ]
     },
     "execution_count": 40,
     "metadata": {},
     "output_type": "execute_result"
    }
   ],
   "source": [
    "train_data.columns"
   ]
  },
  {
   "cell_type": "markdown",
   "metadata": {},
   "source": [
    "### Model Training and evaluation"
   ]
  },
  {
   "cell_type": "markdown",
   "metadata": {},
   "source": [
    "#### 1. keeping all the language codes variations"
   ]
  },
  {
   "cell_type": "code",
   "execution_count": 41,
   "metadata": {
    "id": "hZZL3ChJULAj"
   },
   "outputs": [],
   "source": [
    "# Creating a copy of training data\n",
    "train_data_1 = train_data.copy()"
   ]
  },
  {
   "cell_type": "code",
   "execution_count": 42,
   "metadata": {
    "colab": {
     "base_uri": "https://localhost:8080/"
    },
    "id": "EZQNVb0dT7I_",
    "outputId": "aef4af3b-830d-48b6-c2c6-5d985930029d"
   },
   "outputs": [
    {
     "data": {
      "text/plain": [
       "array(['eng', 'en-US', 'fre', 'spa', 'en-GB', 'mul', 'grc', 'enm',\n",
       "       'en-CA', 'ger', 'jpn', 'ara', 'nl', 'zho', 'lat', 'por', 'ita',\n",
       "       'rus', 'msa', 'glg', 'wel', 'swe', 'nor', 'tur', 'gla', 'ale'],\n",
       "      dtype=object)"
      ]
     },
     "execution_count": 42,
     "metadata": {},
     "output_type": "execute_result"
    }
   ],
   "source": [
    "train_data.language_code.unique()"
   ]
  },
  {
   "cell_type": "code",
   "execution_count": 43,
   "metadata": {
    "id": "ywp4XmW4U0-0"
   },
   "outputs": [],
   "source": [
    "# One-hot encoding for language_code\n",
    "train_data_1 = pd.get_dummies(train_data_1, columns=['language_code'], drop_first=True)"
   ]
  },
  {
   "cell_type": "code",
   "execution_count": 44,
   "metadata": {
    "colab": {
     "base_uri": "https://localhost:8080/"
    },
    "id": "RVqpjtOkVPv0",
    "outputId": "35fee15a-8915-4813-eba4-db6241e3e008"
   },
   "outputs": [
    {
     "data": {
      "text/plain": [
       "Index(['bookID', 'title', 'authors', 'average_rating', 'isbn', '  num_pages',\n",
       "       'ratings_count', 'text_reviews_count', 'publisher', 'author_popularity',\n",
       "       'publication_year', 'publication_month', 'publication_day',\n",
       "       'publisher_freq', 'title_length', 'language_code_ara',\n",
       "       'language_code_en-CA', 'language_code_en-GB', 'language_code_en-US',\n",
       "       'language_code_eng', 'language_code_enm', 'language_code_fre',\n",
       "       'language_code_ger', 'language_code_gla', 'language_code_glg',\n",
       "       'language_code_grc', 'language_code_ita', 'language_code_jpn',\n",
       "       'language_code_lat', 'language_code_msa', 'language_code_mul',\n",
       "       'language_code_nl', 'language_code_nor', 'language_code_por',\n",
       "       'language_code_rus', 'language_code_spa', 'language_code_swe',\n",
       "       'language_code_tur', 'language_code_wel', 'language_code_zho'],\n",
       "      dtype='object')"
      ]
     },
     "execution_count": 44,
     "metadata": {},
     "output_type": "execute_result"
    }
   ],
   "source": [
    "train_data_1.columns"
   ]
  },
  {
   "cell_type": "code",
   "execution_count": 45,
   "metadata": {
    "id": "x2YXjog-VGnC"
   },
   "outputs": [],
   "source": [
    "# Standardizing data ensures that each feature contributes equally to the model, preventing features with larger scales (like ratings_count) \n",
    "# from dominating features with smaller scales (like publication_month and average_rating)\n",
    "numerical_features = ['ratings_count', 'text_reviews_count','title_length', 'publisher_freq', 'publication_year','publication_month', 'publication_day', '  num_pages']\n",
    "scaler = StandardScaler()\n",
    "train_data_1[numerical_features] = scaler.fit_transform(train_data_1[numerical_features])"
   ]
  },
  {
   "cell_type": "code",
   "execution_count": 46,
   "metadata": {
    "id": "ui2J4XCTWJfN"
   },
   "outputs": [],
   "source": [
    "# we only keep numerical columns for the training\n",
    "X = train_data_1.drop(columns=['bookID', 'title', 'authors', 'average_rating', 'isbn','publisher'])\n",
    "y = train_data_1['average_rating']\n",
    "\n",
    "# we are splitting the data set to 80% train and 20% test\n",
    "X_train, X_test, y_train, y_test = train_test_split(X, y, test_size=0.2, random_state=42)"
   ]
  },
  {
   "cell_type": "code",
   "execution_count": 47,
   "metadata": {
    "colab": {
     "base_uri": "https://localhost:8080/"
    },
    "id": "8lj176e2W6LE",
    "outputId": "aeaaca26-5ffb-44ea-a59b-fe1cf971e423"
   },
   "outputs": [
    {
     "name": "stdout",
     "output_type": "stream",
     "text": [
      "Linear Regression Test RMSE: 0.35522338624633953\n",
      "Linear Regression Test R^2: 0.018214975941200362\n"
     ]
    }
   ],
   "source": [
    "linear_regression(X_train, y_train)"
   ]
  },
  {
   "cell_type": "code",
   "execution_count": 48,
   "metadata": {
    "colab": {
     "base_uri": "https://localhost:8080/"
    },
    "id": "zLymfsRzYGun",
    "outputId": "7dbbb784-7efe-49c7-dd0c-3fd9f1a59d87"
   },
   "outputs": [
    {
     "name": "stdout",
     "output_type": "stream",
     "text": [
      "Random Forest Test RMSE: 0.29854767748117944\n",
      "Random Forest Test R^2: 0.3065092108345566\n"
     ]
    }
   ],
   "source": [
    "random_forest(X_train, y_train)"
   ]
  },
  {
   "cell_type": "code",
   "execution_count": 49,
   "metadata": {},
   "outputs": [
    {
     "name": "stdout",
     "output_type": "stream",
     "text": [
      "Gradient Boost Test RMSE: 0.30843821380958786\n",
      "Gradient Boost Test R^2: 0.259799009177907\n"
     ]
    }
   ],
   "source": [
    "gradient_boost(X_train, y_train)"
   ]
  },
  {
   "cell_type": "code",
   "execution_count": 50,
   "metadata": {
    "colab": {
     "base_uri": "https://localhost:8080/"
    },
    "id": "dJmMfcKOYQOb",
    "outputId": "46bade77-1539-430c-c774-a8850aeee3c3"
   },
   "outputs": [
    {
     "name": "stdout",
     "output_type": "stream",
     "text": [
      "XGBoost Test RMSE: 0.32833898675225087\n",
      "XGBoost Test R^2: 0.16120040808563763\n"
     ]
    }
   ],
   "source": [
    "xgboost(X_train, y_train)"
   ]
  },
  {
   "cell_type": "markdown",
   "metadata": {},
   "source": [
    "#### 2. keeping only unique language codes"
   ]
  },
  {
   "cell_type": "code",
   "execution_count": 51,
   "metadata": {
    "id": "3qmfEcEoYUiL"
   },
   "outputs": [],
   "source": [
    "train_data_2 = train_data.copy()"
   ]
  },
  {
   "cell_type": "code",
   "execution_count": 52,
   "metadata": {
    "id": "rI2FPmJqYs-i"
   },
   "outputs": [],
   "source": [
    "train_data_2['language_code'] = train_data_2['language_code'].replace({'en-US': 'eng', 'en-GB': 'eng', 'en-CA': 'eng'})"
   ]
  },
  {
   "cell_type": "code",
   "execution_count": 53,
   "metadata": {
    "colab": {
     "base_uri": "https://localhost:8080/"
    },
    "id": "oCXgc2_SYvvo",
    "outputId": "270ad975-a457-4ef7-e3c7-7b30443bb223"
   },
   "outputs": [
    {
     "data": {
      "text/plain": [
       "Index(['bookID', 'title', 'authors', 'average_rating', 'isbn', 'language_code',\n",
       "       '  num_pages', 'ratings_count', 'text_reviews_count', 'publisher',\n",
       "       'author_popularity', 'publication_year', 'publication_month',\n",
       "       'publication_day', 'publisher_freq', 'title_length'],\n",
       "      dtype='object')"
      ]
     },
     "execution_count": 53,
     "metadata": {},
     "output_type": "execute_result"
    }
   ],
   "source": [
    "train_data_2.columns"
   ]
  },
  {
   "cell_type": "code",
   "execution_count": 54,
   "metadata": {
    "id": "hY96QI6PZFBz"
   },
   "outputs": [],
   "source": [
    "train_data_2 = pd.get_dummies(train_data_2, columns=['language_code'], drop_first=True)"
   ]
  },
  {
   "cell_type": "code",
   "execution_count": 55,
   "metadata": {
    "colab": {
     "base_uri": "https://localhost:8080/"
    },
    "id": "_fB_wzf4ZZKw",
    "outputId": "4e98c2da-3c12-4c17-f228-50fd78f66667"
   },
   "outputs": [
    {
     "data": {
      "text/plain": [
       "Index(['bookID', 'title', 'authors', 'average_rating', 'isbn', '  num_pages',\n",
       "       'ratings_count', 'text_reviews_count', 'publisher', 'author_popularity',\n",
       "       'publication_year', 'publication_month', 'publication_day',\n",
       "       'publisher_freq', 'title_length', 'language_code_ara',\n",
       "       'language_code_eng', 'language_code_enm', 'language_code_fre',\n",
       "       'language_code_ger', 'language_code_gla', 'language_code_glg',\n",
       "       'language_code_grc', 'language_code_ita', 'language_code_jpn',\n",
       "       'language_code_lat', 'language_code_msa', 'language_code_mul',\n",
       "       'language_code_nl', 'language_code_nor', 'language_code_por',\n",
       "       'language_code_rus', 'language_code_spa', 'language_code_swe',\n",
       "       'language_code_tur', 'language_code_wel', 'language_code_zho'],\n",
       "      dtype='object')"
      ]
     },
     "execution_count": 55,
     "metadata": {},
     "output_type": "execute_result"
    }
   ],
   "source": [
    "train_data_2.columns"
   ]
  },
  {
   "cell_type": "code",
   "execution_count": 56,
   "metadata": {
    "id": "SUz5HQ2uZTH3"
   },
   "outputs": [],
   "source": [
    "X = train_data_2.drop(columns=['bookID', 'title', 'authors', 'average_rating', 'isbn', 'publisher'])\n",
    "y = train_data_2['average_rating']\n",
    "\n",
    "X_train, X_test, y_train, y_test = train_test_split(X, y, test_size=0.2, random_state=42)"
   ]
  },
  {
   "cell_type": "code",
   "execution_count": 57,
   "metadata": {
    "colab": {
     "base_uri": "https://localhost:8080/"
    },
    "id": "DCzWALyOZm57",
    "outputId": "fdb14f0c-19c3-45ff-803e-7e4e129785b9"
   },
   "outputs": [
    {
     "name": "stdout",
     "output_type": "stream",
     "text": [
      "Linear Regression Test RMSE: 0.3550724896872901\n",
      "Linear Regression Test R^2: 0.019048910425511933\n"
     ]
    }
   ],
   "source": [
    "linear_regression(X_train, y_train)"
   ]
  },
  {
   "cell_type": "code",
   "execution_count": 58,
   "metadata": {
    "colab": {
     "base_uri": "https://localhost:8080/"
    },
    "id": "Owu9FvucZqvg",
    "outputId": "e3dbd9f2-8821-4e17-c6ee-622d9a2d5ce8"
   },
   "outputs": [
    {
     "name": "stdout",
     "output_type": "stream",
     "text": [
      "Random Forest Test RMSE: 0.30183651174953396\n",
      "Random Forest Test R^2: 0.2911459098468705\n"
     ]
    }
   ],
   "source": [
    "random_forest(X_train, y_train)"
   ]
  },
  {
   "cell_type": "code",
   "execution_count": 59,
   "metadata": {},
   "outputs": [
    {
     "name": "stdout",
     "output_type": "stream",
     "text": [
      "Gradient Boost Test RMSE: 0.3098982968493088\n",
      "Gradient Boost Test R^2: 0.25277450378349675\n"
     ]
    }
   ],
   "source": [
    "gradient_boost(X_train, y_train)"
   ]
  },
  {
   "cell_type": "code",
   "execution_count": 60,
   "metadata": {},
   "outputs": [
    {
     "name": "stdout",
     "output_type": "stream",
     "text": [
      "XGBoost Test RMSE: 0.32897960614849836\n",
      "XGBoost Test R^2: 0.15792406552137228\n"
     ]
    }
   ],
   "source": [
    "xgboost(X_train, y_train)"
   ]
  },
  {
   "cell_type": "markdown",
   "metadata": {},
   "source": [
    "#### 3. Keeping only book with less than 2000 pages"
   ]
  },
  {
   "cell_type": "code",
   "execution_count": 61,
   "metadata": {},
   "outputs": [],
   "source": [
    "train_data_3 = train_data_2.copy()"
   ]
  },
  {
   "cell_type": "code",
   "execution_count": 62,
   "metadata": {},
   "outputs": [],
   "source": [
    "train_data_3 = train_data_3[(train_data_3['  num_pages'] <= 2000)]"
   ]
  },
  {
   "cell_type": "code",
   "execution_count": 63,
   "metadata": {},
   "outputs": [],
   "source": [
    "X = train_data_3.drop(columns=['bookID', 'title', 'authors', 'average_rating', 'isbn','publisher'])\n",
    "y = train_data_3['average_rating']\n",
    "\n",
    "X_train, X_test, y_train, y_test = train_test_split(X, y, test_size=0.2, random_state=42)"
   ]
  },
  {
   "cell_type": "code",
   "execution_count": 64,
   "metadata": {},
   "outputs": [
    {
     "name": "stdout",
     "output_type": "stream",
     "text": [
      "Linear Regression Test RMSE: 0.35193846824037167\n",
      "Linear Regression Test R^2: 0.041006774436003535\n"
     ]
    }
   ],
   "source": [
    "linear_regression(X_train, y_train)"
   ]
  },
  {
   "cell_type": "code",
   "execution_count": 65,
   "metadata": {},
   "outputs": [
    {
     "name": "stdout",
     "output_type": "stream",
     "text": [
      "Random Forest Test RMSE: 0.32199515239503\n",
      "Random Forest Test R^2: 0.19724923660365734\n"
     ]
    }
   ],
   "source": [
    "random_forest(X_train, y_train)"
   ]
  },
  {
   "cell_type": "code",
   "execution_count": 66,
   "metadata": {},
   "outputs": [
    {
     "name": "stdout",
     "output_type": "stream",
     "text": [
      "Gradient Boost Test RMSE: 0.3226495090637788\n",
      "Gradient Boost Test R^2: 0.19398323056390143\n"
     ]
    }
   ],
   "source": [
    "gradient_boost(X_train, y_train)"
   ]
  },
  {
   "cell_type": "code",
   "execution_count": 67,
   "metadata": {},
   "outputs": [
    {
     "name": "stdout",
     "output_type": "stream",
     "text": [
      "XGBoost Test RMSE: 0.3362963511981852\n",
      "XGBoost Test R^2: 0.12435843036434824\n"
     ]
    }
   ],
   "source": [
    "xgboost(X_train, y_train)"
   ]
  },
  {
   "cell_type": "markdown",
   "metadata": {},
   "source": [
    "  "
   ]
  },
  {
   "cell_type": "markdown",
   "metadata": {},
   "source": [
    "#### 4. Keeping books between year 1990 and 2010"
   ]
  },
  {
   "cell_type": "code",
   "execution_count": 68,
   "metadata": {},
   "outputs": [],
   "source": [
    "train_data_4 = train_data_3.copy()"
   ]
  },
  {
   "cell_type": "code",
   "execution_count": 69,
   "metadata": {},
   "outputs": [],
   "source": [
    "train_data_4 = train_data_4[(train_data_4['publication_year'] >= 1990) & (train_data_4['publication_year'] <= 2010)]"
   ]
  },
  {
   "cell_type": "code",
   "execution_count": 70,
   "metadata": {},
   "outputs": [],
   "source": [
    "X = train_data_4.drop(columns=['bookID', 'title', 'authors', 'average_rating', 'isbn','publisher'])\n",
    "y = train_data_4['average_rating']\n",
    "\n",
    "X_train, X_test, y_train, y_test = train_test_split(X, y, test_size=0.2, random_state=42)"
   ]
  },
  {
   "cell_type": "code",
   "execution_count": 71,
   "metadata": {},
   "outputs": [
    {
     "name": "stdout",
     "output_type": "stream",
     "text": [
      "Linear Regression Test RMSE: 0.33670577240403615\n",
      "Linear Regression Test R^2: 0.03580139390837478\n"
     ]
    }
   ],
   "source": [
    "linear_regression(X_train, y_train)"
   ]
  },
  {
   "cell_type": "code",
   "execution_count": 72,
   "metadata": {},
   "outputs": [
    {
     "name": "stdout",
     "output_type": "stream",
     "text": [
      "Random Forest Test RMSE: 0.32281956199670314\n",
      "Random Forest Test R^2: 0.11369119590400778\n"
     ]
    }
   ],
   "source": [
    "random_forest(X_train, y_train)"
   ]
  },
  {
   "cell_type": "code",
   "execution_count": 73,
   "metadata": {},
   "outputs": [
    {
     "name": "stdout",
     "output_type": "stream",
     "text": [
      "Gradient Boost Test RMSE: 0.3181092976810749\n",
      "Gradient Boost Test R^2: 0.13936678880256115\n"
     ]
    }
   ],
   "source": [
    "gradient_boost(X_train, y_train)"
   ]
  },
  {
   "cell_type": "code",
   "execution_count": 74,
   "metadata": {},
   "outputs": [
    {
     "name": "stdout",
     "output_type": "stream",
     "text": [
      "XGBoost Test RMSE: 0.3408343406323689\n",
      "XGBoost Test R^2: 0.012011097454781128\n"
     ]
    }
   ],
   "source": [
    "xgboost(X_train, y_train)"
   ]
  },
  {
   "cell_type": "markdown",
   "metadata": {
    "id": "5u0zNMyma_hy"
   },
   "source": [
    "<span style=\"color:red; font-weight:bold\">The best R^2 we have so far is 30% that means we need to do more data cleaning and we also need to add more rows or columns to our dataset that have better correlation with the average rating ~~\n",
    "</span>"
   ]
  }
 ],
 "metadata": {
  "colab": {
   "provenance": []
  },
  "kernelspec": {
   "display_name": "Python 3 (ipykernel)",
   "language": "python",
   "name": "python3"
  },
  "language_info": {
   "codemirror_mode": {
    "name": "ipython",
    "version": 3
   },
   "file_extension": ".py",
   "mimetype": "text/x-python",
   "name": "python",
   "nbconvert_exporter": "python",
   "pygments_lexer": "ipython3",
   "version": "3.8.19"
  }
 },
 "nbformat": 4,
 "nbformat_minor": 4
}
