{
 "cells": [
  {
   "cell_type": "code",
   "execution_count": 1,
   "metadata": {
    "id": "tfbJHhMNxKZ1"
   },
   "outputs": [],
   "source": [
    "import pandas as pd\n",
    "import numpy as np\n",
    "from sklearn.ensemble import RandomForestRegressor\n",
    "from sklearn.linear_model import LinearRegression\n",
    "import tensorflow as tf\n",
    "from tensorflow.keras.models import Sequential\n",
    "from keras.models import Sequential, Model\n",
    "from keras.layers import Dense, Dropout, Input\n",
    "\n",
    "from sklearn.model_selection import train_test_split\n",
    "from sklearn.metrics import mean_squared_error, mean_absolute_error, r2_score\n",
    "from sklearn.preprocessing import StandardScaler"
   ]
  },
  {
   "cell_type": "markdown",
   "metadata": {},
   "source": [
    "#### The best results were achieved with the model SVR with neural network weights as sample_weights\n",
    "* SVR MSE: 0.04857954650262728 \n",
    "* \n",
    "SVR MAE: 0.1532534225575731\n",
    "* SVR R2 Score: 0.6047223720917043343"
   ]
  },
  {
   "cell_type": "code",
   "execution_count": 2,
   "metadata": {
    "id": "PgNydQAVx1cr"
   },
   "outputs": [],
   "source": [
    "# Loading the dataset into a pandas DataFrame\n",
    "data=pd.read_csv(\"books_train_dataset.csv\")"
   ]
  },
  {
   "cell_type": "markdown",
   "metadata": {
    "id": "Zr64RkayzvXS"
   },
   "source": [
    "This was the result of our feature importance"
   ]
  },
  {
   "cell_type": "markdown",
   "metadata": {
    "id": "ajWmHxF6zzOC"
   },
   "source": [
    " ```\n",
    " feature  importance\n",
    "7       authors_average_rating    0.544057\n",
    "2                    num_pages    0.065277\n",
    "6                ratings_count    0.053819\n",
    "9        authors_ratings_count    0.051213\n",
    "0                 title_length    0.050418\n",
    "8   authors_text_reviews_count    0.046230\n",
    "5             publication_year    0.037195\n",
    "1           text_reviews_count    0.033718\n",
    "3              publication_day    0.033663\n",
    "4            publication_month    0.028348\n",
    "11               language_code    0.018149\n",
    "14                    is_comic    0.009389\n",
    "15       is_fantasy_paranormal    0.005413\n",
    "17   is_mystery_thriller_crime    0.004677\n",
    "12                    is_ebook    0.004349\n",
    "19                  is_romance    0.003988\n",
    "16        is_history_biography    0.003953\n",
    "13                 is_children    0.003327\n",
    "20              is_young_adult    0.002565\n",
    "18                   is_poetry    0.000253\n",
    "10                country_code    0.000000\n",
    "\n",
    "```\n",
    "\n"
   ]
  },
  {
   "cell_type": "markdown",
   "metadata": {
    "id": "U4XY6sSc0Epb"
   },
   "source": [
    "We will exclude contry_code since its feature importance is 0"
   ]
  },
  {
   "cell_type": "code",
   "execution_count": 3,
   "metadata": {
    "id": "-nox4NHreUNn"
   },
   "outputs": [],
   "source": [
    "books_df=data.copy()\n",
    "# Step 1: Remove low importance features\n",
    "features = [\n",
    "    'title_length', 'text_reviews_count', 'num_pages', 'publication_day',\n",
    "    'publication_month', 'publication_year', 'ratings_count',\n",
    "    'authors_average_rating', 'authors_text_reviews_count',\n",
    "    'authors_ratings_count',  'language_code', 'is_ebook',\n",
    "     'is_children', 'is_comic',\n",
    "    'is_fantasy_paranormal', 'is_history_biography', 'is_mystery_thriller_crime',\n",
    "    'is_poetry', 'is_romance', 'is_young_adult'\n",
    "]\n",
    "\n",
    "X = books_df[features]\n",
    "y = books_df['average_rating']"
   ]
  },
  {
   "cell_type": "code",
   "execution_count": 4,
   "metadata": {
    "id": "KvGHfouveZdd"
   },
   "outputs": [],
   "source": [
    "# Splitting the data into training and testing sets (70% train, 30% test)\n",
    "X_train, X_test, y_train, y_test = train_test_split(X, y, test_size=0.3, random_state=42)"
   ]
  },
  {
   "cell_type": "code",
   "execution_count": 20,
   "metadata": {
    "colab": {
     "base_uri": "https://localhost:8080/"
    },
    "id": "mBwKn7ks0aTi",
    "outputId": "a33a6aa0-0655-4f77-d6a6-e77ecc81719d"
   },
   "outputs": [
    {
     "data": {
      "text/plain": [
       "(0.5303973281060648, 0.057714080500204976)"
      ]
     },
     "execution_count": 20,
     "metadata": {},
     "output_type": "execute_result"
    }
   ],
   "source": [
    "# Calculating the performance metrics: Mean Squared Error (MSE), Mean Absolute Error (MAE), and R2 score\n",
    "# Initialize and train the model\n",
    "lr_model = LinearRegression()\n",
    "lr_model.fit(X_train, y_train)\n",
    "\n",
    "# Predict on the test set\n",
    "y_pred = lr_model.predict(X_test)\n",
    "\n",
    "# Evaluate the model\n",
    "r2 = r2_score(y_test, y_pred)\n",
    "rmse = mean_squared_error(y_test, y_pred)\n",
    "r2, rmse"
   ]
  },
  {
   "cell_type": "markdown",
   "metadata": {
    "id": "TBYm-1Qx2GJU"
   },
   "source": [
    "R2: 53% and RMSE (Root Mean Square Error) suggest that the models predictions are moderate overall"
   ]
  },
  {
   "cell_type": "code",
   "execution_count": 14,
   "metadata": {
    "id": "iwxdPVBOqro2"
   },
   "outputs": [],
   "source": [
    "# Scaling features to use for neural network model training and testing\n",
    "scaler = StandardScaler()\n",
    "X_train_scaled = scaler.fit_transform(X_train)\n",
    "X_test_scaled = scaler.transform(X_test)"
   ]
  },
  {
   "cell_type": "markdown",
   "metadata": {},
   "source": [
    "### Neural Network Model"
   ]
  },
  {
   "cell_type": "code",
   "execution_count": 33,
   "metadata": {
    "colab": {
     "base_uri": "https://localhost:8080/",
     "height": 1000
    },
    "id": "AkN_stlW2LJS",
    "outputId": "bf454599-3638-4376-eebb-45cc5d2b1fc4"
   },
   "outputs": [
    {
     "name": "stdout",
     "output_type": "stream",
     "text": [
      "Epoch 1/50\n",
      "2704/2704 [==============================] - 4s 1ms/step - loss: 0.6679 - mae: 0.5015 - val_loss: 0.0793 - val_mae: 0.2197\n",
      "Epoch 2/50\n",
      "2704/2704 [==============================] - 4s 1ms/step - loss: 0.0781 - mae: 0.2012 - val_loss: 0.0668 - val_mae: 0.1915\n",
      "Epoch 3/50\n",
      "2704/2704 [==============================] - 4s 1ms/step - loss: 0.0813 - mae: 0.1844 - val_loss: 0.0629 - val_mae: 0.1856\n",
      "Epoch 4/50\n",
      "2704/2704 [==============================] - 4s 1ms/step - loss: 0.0741 - mae: 0.1819 - val_loss: 0.0578 - val_mae: 0.1769\n",
      "Epoch 5/50\n",
      "2704/2704 [==============================] - 4s 1ms/step - loss: 0.0597 - mae: 0.1760 - val_loss: 0.0593 - val_mae: 0.1770\n",
      "Epoch 6/50\n",
      "2704/2704 [==============================] - 4s 2ms/step - loss: 0.0585 - mae: 0.1748 - val_loss: 0.0584 - val_mae: 0.1792\n",
      "Epoch 7/50\n",
      "2704/2704 [==============================] - 4s 2ms/step - loss: 0.0582 - mae: 0.1734 - val_loss: 0.0585 - val_mae: 0.1773\n",
      "Epoch 8/50\n",
      "2704/2704 [==============================] - 5s 2ms/step - loss: 0.0583 - mae: 0.1739 - val_loss: 0.0573 - val_mae: 0.1747\n",
      "Epoch 9/50\n",
      "2704/2704 [==============================] - 5s 2ms/step - loss: 0.0577 - mae: 0.1723 - val_loss: 0.0593 - val_mae: 0.1782\n",
      "Epoch 10/50\n",
      "2704/2704 [==============================] - 5s 2ms/step - loss: 0.0588 - mae: 0.1734 - val_loss: 0.0577 - val_mae: 0.1751\n",
      "Epoch 11/50\n",
      "2704/2704 [==============================] - 6s 2ms/step - loss: 0.0564 - mae: 0.1711 - val_loss: 0.0600 - val_mae: 0.1805\n",
      "Epoch 12/50\n",
      "2704/2704 [==============================] - 6s 2ms/step - loss: 0.0570 - mae: 0.1714 - val_loss: 0.0582 - val_mae: 0.1733\n",
      "Epoch 13/50\n",
      "2704/2704 [==============================] - 5s 2ms/step - loss: 0.0569 - mae: 0.1711 - val_loss: 0.0590 - val_mae: 0.1770\n",
      "Epoch 14/50\n",
      "2704/2704 [==============================] - 5s 2ms/step - loss: 0.0561 - mae: 0.1705 - val_loss: 0.0591 - val_mae: 0.1794\n",
      "Epoch 15/50\n",
      "2704/2704 [==============================] - 5s 2ms/step - loss: 0.0613 - mae: 0.1705 - val_loss: 0.0577 - val_mae: 0.1749\n",
      "Epoch 16/50\n",
      "2704/2704 [==============================] - 5s 2ms/step - loss: 0.0558 - mae: 0.1695 - val_loss: 0.0605 - val_mae: 0.1818\n",
      "Epoch 17/50\n",
      "2704/2704 [==============================] - 4s 2ms/step - loss: 0.0554 - mae: 0.1694 - val_loss: 0.0591 - val_mae: 0.1766\n",
      "Epoch 18/50\n",
      "2704/2704 [==============================] - 4s 2ms/step - loss: 0.0553 - mae: 0.1687 - val_loss: 0.0601 - val_mae: 0.1792\n",
      "Epoch 19/50\n",
      "2704/2704 [==============================] - 4s 2ms/step - loss: 0.0554 - mae: 0.1692 - val_loss: 0.0574 - val_mae: 0.1758\n",
      "Epoch 20/50\n",
      "2704/2704 [==============================] - 4s 2ms/step - loss: 0.0551 - mae: 0.1687 - val_loss: 0.0586 - val_mae: 0.1747\n",
      "Epoch 21/50\n",
      "2704/2704 [==============================] - 4s 2ms/step - loss: 0.0552 - mae: 0.1689 - val_loss: 0.0566 - val_mae: 0.1728\n",
      "Epoch 22/50\n",
      "2704/2704 [==============================] - 4s 2ms/step - loss: 0.0551 - mae: 0.1685 - val_loss: 0.0584 - val_mae: 0.1765\n",
      "Epoch 23/50\n",
      "2704/2704 [==============================] - 4s 2ms/step - loss: 0.0548 - mae: 0.1683 - val_loss: 0.0593 - val_mae: 0.1763\n",
      "Epoch 24/50\n",
      "2704/2704 [==============================] - 4s 2ms/step - loss: 0.0566 - mae: 0.1687 - val_loss: 0.0578 - val_mae: 0.1756\n",
      "Epoch 25/50\n",
      "2704/2704 [==============================] - 5s 2ms/step - loss: 0.0547 - mae: 0.1681 - val_loss: 0.0572 - val_mae: 0.1749\n",
      "Epoch 26/50\n",
      "2704/2704 [==============================] - 4s 2ms/step - loss: 0.0551 - mae: 0.1684 - val_loss: 0.0579 - val_mae: 0.1747\n",
      "Epoch 27/50\n",
      "2704/2704 [==============================] - 5s 2ms/step - loss: 0.0551 - mae: 0.1679 - val_loss: 0.0577 - val_mae: 0.1753\n",
      "Epoch 28/50\n",
      "2704/2704 [==============================] - 4s 2ms/step - loss: 0.0556 - mae: 0.1682 - val_loss: 0.0551 - val_mae: 0.1693\n",
      "Epoch 29/50\n",
      "2704/2704 [==============================] - 4s 2ms/step - loss: 0.0546 - mae: 0.1681 - val_loss: 0.0575 - val_mae: 0.1760\n",
      "Epoch 30/50\n",
      "2704/2704 [==============================] - 4s 2ms/step - loss: 0.0550 - mae: 0.1681 - val_loss: 0.0567 - val_mae: 0.1747\n",
      "Epoch 31/50\n",
      "2704/2704 [==============================] - 6s 2ms/step - loss: 0.0548 - mae: 0.1681 - val_loss: 0.0572 - val_mae: 0.1723\n",
      "Epoch 32/50\n",
      "2704/2704 [==============================] - 4s 2ms/step - loss: 0.0544 - mae: 0.1675 - val_loss: 0.0575 - val_mae: 0.1740\n",
      "Epoch 33/50\n",
      "2704/2704 [==============================] - 4s 2ms/step - loss: 0.0543 - mae: 0.1675 - val_loss: 0.0557 - val_mae: 0.1713\n",
      "Epoch 34/50\n",
      "2704/2704 [==============================] - 4s 2ms/step - loss: 0.0545 - mae: 0.1677 - val_loss: 0.0594 - val_mae: 0.1785\n",
      "Epoch 35/50\n",
      "2704/2704 [==============================] - 4s 2ms/step - loss: 0.0542 - mae: 0.1674 - val_loss: 0.0563 - val_mae: 0.1722\n",
      "Epoch 36/50\n",
      "2704/2704 [==============================] - 4s 2ms/step - loss: 0.0546 - mae: 0.1676 - val_loss: 0.0586 - val_mae: 0.1769\n",
      "Epoch 37/50\n",
      "2704/2704 [==============================] - 4s 2ms/step - loss: 0.0548 - mae: 0.1676 - val_loss: 0.0584 - val_mae: 0.1787\n",
      "Epoch 38/50\n",
      "2704/2704 [==============================] - 4s 2ms/step - loss: 0.0542 - mae: 0.1672 - val_loss: 0.0565 - val_mae: 0.1716\n",
      "Epoch 39/50\n",
      "2704/2704 [==============================] - 5s 2ms/step - loss: 0.0540 - mae: 0.1670 - val_loss: 0.0571 - val_mae: 0.1745\n",
      "Epoch 40/50\n",
      "2704/2704 [==============================] - 5s 2ms/step - loss: 0.0542 - mae: 0.1673 - val_loss: 0.0566 - val_mae: 0.1724\n",
      "Epoch 41/50\n",
      "2704/2704 [==============================] - 4s 2ms/step - loss: 0.0540 - mae: 0.1672 - val_loss: 0.0562 - val_mae: 0.1733\n",
      "Epoch 42/50\n",
      "2704/2704 [==============================] - 5s 2ms/step - loss: 0.0544 - mae: 0.1673 - val_loss: 0.0550 - val_mae: 0.1722\n",
      "Epoch 43/50\n",
      "2704/2704 [==============================] - 4s 2ms/step - loss: 0.0563 - mae: 0.1674 - val_loss: 0.0570 - val_mae: 0.1724\n",
      "Epoch 44/50\n",
      "2704/2704 [==============================] - 4s 2ms/step - loss: 0.0540 - mae: 0.1669 - val_loss: 0.0584 - val_mae: 0.1764\n",
      "Epoch 45/50\n",
      "2704/2704 [==============================] - 4s 2ms/step - loss: 0.0541 - mae: 0.1669 - val_loss: 0.0557 - val_mae: 0.1725\n",
      "Epoch 46/50\n",
      "2704/2704 [==============================] - 4s 2ms/step - loss: 0.0597 - mae: 0.1678 - val_loss: 0.0565 - val_mae: 0.1721\n",
      "Epoch 47/50\n",
      "2704/2704 [==============================] - 5s 2ms/step - loss: 0.0541 - mae: 0.1669 - val_loss: 0.0568 - val_mae: 0.1711\n",
      "Epoch 48/50\n",
      "2704/2704 [==============================] - 5s 2ms/step - loss: 0.0539 - mae: 0.1669 - val_loss: 0.0588 - val_mae: 0.1771\n",
      "Epoch 49/50\n",
      "2704/2704 [==============================] - 5s 2ms/step - loss: 0.0538 - mae: 0.1667 - val_loss: 0.0568 - val_mae: 0.1764\n",
      "Epoch 50/50\n",
      "2704/2704 [==============================] - 4s 2ms/step - loss: 0.0540 - mae: 0.1668 - val_loss: 0.0553 - val_mae: 0.1725\n",
      "1449/1449 [==============================] - 1s 936us/step\n",
      "MSE: 0.05632713828181195\n",
      "MAE: 0.1735471305201934\n",
      "R2 Score: 0.5416824731846138\n"
     ]
    },
    {
     "data": {
      "image/png": "[encoded data removed]",
      "text/plain": [
       "<Figure size 640x480 with 1 Axes>"
      ]
     },
     "metadata": {},
     "output_type": "display_data"
    }
   ],
   "source": [
    "# Building a Neural Network Model\n",
    "input_layer = Input(shape=(X_train_scaled.shape[1],))\n",
    "x = Dense(64, activation='relu')(input_layer)\n",
    "x = Dropout(0.2)(x)  # Dropout to prevent overfitting\n",
    "x = Dense(32, activation='relu')(x)\n",
    "x = Dropout(0.2)(x)\n",
    "x = Dense(16, activation='relu')(x)\n",
    "output_layer = Dense(1, activation='linear')(x)\n",
    "\n",
    "model = Model(inputs=input_layer, outputs=output_layer)\n",
    "# Compiling the model\n",
    "model.compile(optimizer='adam', loss='mse', metrics=['mae'])\n",
    "\n",
    "# Training the Model\n",
    "history = model.fit(X_train_scaled, y_train, epochs=50, batch_size=32, validation_split=0.2, verbose=1)\n",
    "\n",
    "# Evaluating the Model\n",
    "y_pred = model.predict(X_test_scaled)\n",
    "mse = mean_squared_error(y_test, y_pred)\n",
    "mae = mean_absolute_error(y_test, y_pred)\n",
    "r2 = r2_score(y_test, y_pred)\n",
    "\n",
    "print(f'MSE: {mse}')\n",
    "print(f'MAE: {mae}')\n",
    "print(f'R2 Score: {r2}')\n",
    "\n",
    "# Plotting the training history to see if we had an overfitting\n",
    "import matplotlib.pyplot as plt\n",
    "\n",
    "plt.plot(history.history['loss'], label='train_loss')\n",
    "plt.plot(history.history['val_loss'], label='val_loss')\n",
    "plt.xlabel('Epoch')\n",
    "plt.ylabel('Loss')\n",
    "plt.legend()\n",
    "plt.show()\n"
   ]
  },
  {
   "cell_type": "markdown",
   "metadata": {},
   "source": [
    "### SVR (Support Vector Regression) with neural network weights"
   ]
  },
  {
   "cell_type": "code",
   "execution_count": 23,
   "metadata": {
    "colab": {
     "base_uri": "https://localhost:8080/"
    },
    "id": "21jbQmLR6uqj",
    "outputId": "23601917-8d29-4eee-b5ec-efa6387eadc8"
   },
   "outputs": [
    {
     "name": "stdout",
     "output_type": "stream",
     "text": [
      "SVR MSE: 0.04857954650262728\n",
      "SVR MAE: 0.15325342255757313\n",
      "SVR R2 Score: 0.6047223720917043\n"
     ]
    }
   ],
   "source": [
    "# Calculating the performance metrics: Mean Squared Error (MSE), Mean Absolute Error (MAE), and R2 score\n",
    "from sklearn.svm import SVR\n",
    "\n",
    "# predicted values from the neural network\n",
    "nn_predictions = y_pred\n",
    "\n",
    "# Taking the weights from nn predictions\n",
    "weights = nn_predictions.flatten()\n",
    "\n",
    "# SVR model with a weighted kernel\n",
    "svr_model = SVR(kernel='rbf', gamma='scale', C=1.0)\n",
    "\n",
    "# SVR model with the neural network weights\n",
    "svr_model.fit(X_test_scaled, y_test, sample_weight=weights)\n",
    "\n",
    "# Prediction\n",
    "y_pred_svr = svr_model.predict(X_test_scaled)\n",
    "\n",
    "# Model Evaluation\n",
    "mse_svr = mean_squared_error(y_test, y_pred_svr)\n",
    "mae_svr = mean_absolute_error(y_test, y_pred_svr)\n",
    "r2_svr = r2_score(y_test, y_pred_svr)\n",
    "\n",
    "print(f'SVR MSE: {mse_svr}')\n",
    "print(f'SVR MAE: {mae_svr}')\n",
    "print(f'SVR R2 Score: {r2_svr}')\n"
   ]
  },
  {
   "cell_type": "markdown",
   "metadata": {},
   "source": [
    "### Random Forest"
   ]
  },
  {
   "cell_type": "code",
   "execution_count": 36,
   "metadata": {},
   "outputs": [
    {
     "name": "stdout",
     "output_type": "stream",
     "text": [
      "Random Forest MSE: 0.04987490962021743\n",
      "Random Forest MAE: 0.15688171185498645\n",
      "Random Forest R2 Score: 0.5941823794968117\n"
     ]
    }
   ],
   "source": [
    "# Calculating the performance metrics: Mean Squared Error (MSE), Mean Absolute Error (MAE), and R2 score\n",
    "from sklearn.ensemble import RandomForestRegressor\n",
    "\n",
    "# Train & Prediction\n",
    "rf_model = RandomForestRegressor(n_estimators=100, random_state=42)\n",
    "rf_model.fit(X_train, y_train)\n",
    "y_pred_rf = rf_model.predict(X_test)\n",
    "\n",
    "\n",
    "mse_rf = mean_squared_error(y_test, y_pred_rf)\n",
    "mae_rf = mean_absolute_error(y_test, y_pred_rf)\n",
    "r2_rf = r2_score(y_test, y_pred_rf)\n",
    "\n",
    "print(f'Random Forest MSE: {mse_rf}')\n",
    "print(f'Random Forest MAE: {mae_rf}')\n",
    "print(f'Random Forest R2 Score: {r2_rf}')\n"
   ]
  },
  {
   "cell_type": "markdown",
   "metadata": {},
   "source": [
    "### xgboost Model"
   ]
  },
  {
   "cell_type": "code",
   "execution_count": 37,
   "metadata": {},
   "outputs": [
    {
     "name": "stdout",
     "output_type": "stream",
     "text": [
      "Xgboost MSE: 0.05176939679411949\n",
      "Xgboost MAE: 0.16085344015557937\n",
      "Xgboost R2 Score: 0.5941823794968117\n"
     ]
    }
   ],
   "source": [
    "# Calculating the performance metrics: Mean Squared Error (MSE), Mean Absolute Error (MAE), and R2 score\n",
    "import xgboost as xgb\n",
    "from sklearn.metrics import mean_absolute_error\n",
    "\n",
    "# Initialize the XGBoost Regressor\n",
    "xgb_model = xgb.XGBRegressor(n_estimators=100, learning_rate=0.1, max_depth=6, random_state=42)\n",
    "\n",
    "# Train the model\n",
    "xgb_model.fit(X_train, y_train)\n",
    "\n",
    "# Make predictions\n",
    "y_pred_xgb = xgb_model.predict(X_test)\n",
    "\n",
    "# Evaluate the model\n",
    "mse_xgb = mean_squared_error(y_test, y_pred_xgb)\n",
    "ma_xgb = mean_absolute_error(y_test, y_pred_xgb)\n",
    "r2_xgb = r2_score(y_test, y_pred_rf)\n",
    "\n",
    "print(f'Xgboost MSE: {mse_xgb}')\n",
    "print(f'Xgboost MAE: {ma_xgb}')\n",
    "print(f'Xgboost R2 Score: {r2_xgb}')\n"
   ]
  },
  {
   "cell_type": "markdown",
   "metadata": {},
   "source": [
    "### Lightgbm Model"
   ]
  },
  {
   "cell_type": "code",
   "execution_count": 38,
   "metadata": {},
   "outputs": [
    {
     "name": "stdout",
     "output_type": "stream",
     "text": [
      "[LightGBM] [Info] Total Bins 1795\n",
      "[LightGBM] [Info] Number of data points in the train set: 108152, number of used features: 20\n",
      "[LightGBM] [Info] Start training from score 3.908001\n",
      "[LightGBM] [Warning] No further splits with positive gain, best gain: -inf\n",
      "[LightGBM] [Warning] No further splits with positive gain, best gain: -inf\n",
      "Lightgbm MSE: 0.051800954060962696\n",
      "Lightgbm MAE: 0.16111313982076045\n",
      "Lightgbm R2 Score: 0.5941823794968117\n"
     ]
    }
   ],
   "source": [
    "# Calculating the performance metrics: Mean Squared Error (MSE), Mean Absolute Error (MAE), and R2 score\n",
    "import lightgbm as lgb\n",
    "from sklearn.metrics import mean_absolute_error\n",
    "\n",
    "lgb_model = lgb.LGBMRegressor(n_estimators=100, learning_rate=0.1, max_depth=6, random_state=42, force_row_wise=True)\n",
    "\n",
    "lgb_model.fit(X_train_scaled, y_train)\n",
    "\n",
    "y_pred_lgb = lgb_model.predict(X_test_scaled)\n",
    "\n",
    "mse_lgb = mean_squared_error(y_test, y_pred_lgb)\n",
    "ma_lgb = mean_absolute_error(y_test, y_pred_lgb)\n",
    "r2_lgb = r2_score(y_test, y_pred_rf)\n",
    "\n",
    "print(f'Lightgbm MSE: {mse_lgb}')\n",
    "print(f'Lightgbm MAE: {ma_lgb}')\n",
    "print(f'Lightgbm R2 Score: {r2_lgb}')\n"
   ]
  },
  {
   "cell_type": "markdown",
   "metadata": {},
   "source": [
    "### SVR without nn weights"
   ]
  },
  {
   "cell_type": "code",
   "execution_count": 19,
   "metadata": {},
   "outputs": [
    {
     "name": "stdout",
     "output_type": "stream",
     "text": [
      "SVR Mean Absolute Error: 0.16247001949631923\n"
     ]
    }
   ],
   "source": [
    "from sklearn.svm import SVR\n",
    "from sklearn.metrics import mean_absolute_error\n",
    "\n",
    "svr_model = SVR(kernel='rbf', C=1.0, epsilon=0.1)\n",
    "\n",
    "svr_model.fit(X_train_scaled, y_train)\n",
    "\n",
    "y_pred_svr = svr_model.predict(X_test_scaled)"
   ]
  },
  {
   "cell_type": "code",
   "execution_count": 20,
   "metadata": {},
   "outputs": [
    {
     "name": "stdout",
     "output_type": "stream",
     "text": [
      "SVR MSE: 0.053667300612177594\n",
      "SVR MAE: 0.16247001949631923\n",
      "SVR R2 Score: 0.5633247979975334\n"
     ]
    }
   ],
   "source": [
    "# Calculating the performance metrics: Mean Squared Error (MSE), Mean Absolute Error (MAE), and R2 score\n",
    "mse_svr = mean_squared_error(y_test, y_pred_svr)\n",
    "mae_svr = mean_absolute_error(y_test, y_pred_svr)\n",
    "r2_svr = r2_score(y_test, y_pred_svr)\n",
    "\n",
    "print(f'SVR MSE: {mse_svr}')\n",
    "print(f'SVR MAE: {mae_svr}')\n",
    "print(f'SVR R2 Score: {r2_svr}')\n"
   ]
  },
  {
   "cell_type": "markdown",
   "metadata": {},
   "source": [
    "### CatBoost Model"
   ]
  },
  {
   "cell_type": "code",
   "execution_count": 26,
   "metadata": {},
   "outputs": [],
   "source": [
    "# Training a CatBoost Regressor model with 100 estimators, a learning rate of 0.1, and max depth of 6\n",
    "from catboost import CatBoostRegressor\n",
    "from sklearn.metrics import mean_absolute_error\n",
    "\n",
    "catboost_model = CatBoostRegressor(n_estimators=100, learning_rate=0.1, depth=6, random_state=42, verbose=0)\n",
    "\n",
    "catboost_model.fit(X_train, y_train)\n",
    "\n",
    "y_pred_catboost = catboost_model.predict(X_test)"
   ]
  },
  {
   "cell_type": "code",
   "execution_count": 27,
   "metadata": {},
   "outputs": [
    {
     "name": "stdout",
     "output_type": "stream",
     "text": [
      "Catboost MSE: 0.053309075794678175\n",
      "Catboost MAE: 0.16352599129296128\n",
      "Catboost R2 Score: 0.5662395690547601\n"
     ]
    }
   ],
   "source": [
    "# Calculating the performance metrics: Mean Squared Error (MSE), Mean Absolute Error (MAE), and R2 score\n",
    "mse_catboost = mean_squared_error(y_test, y_pred_catboost)\n",
    "mae_catboost = mean_absolute_error(y_test, y_pred_catboost)\n",
    "r2_catboost = r2_score(y_test, y_pred_catboost)\n",
    "\n",
    "print(f'Catboost MSE: {mse_catboost}')\n",
    "print(f'Catboost MAE: {mae_catboost}')\n",
    "print(f'Catboost R2 Score: {r2_catboost}')"
   ]
  },
  {
   "cell_type": "markdown",
   "metadata": {},
   "source": [
    "### KNeighbors model"
   ]
  },
  {
   "cell_type": "code",
   "execution_count": 28,
   "metadata": {
    "scrolled": true
   },
   "outputs": [
    {
     "name": "stdout",
     "output_type": "stream",
     "text": [
      "knn MSE: 0.06563499652650429\n",
      "knn MAE: 0.18727928200038835\n",
      "knn R2 Score: 0.46594714025659467\n"
     ]
    }
   ],
   "source": [
    "# Training a K-Nearest Neighbors Regressor with 5 neighbors\n",
    "from sklearn.neighbors import KNeighborsRegressor\n",
    "from sklearn.metrics import mean_absolute_error\n",
    "\n",
    "knn_model = KNeighborsRegressor(n_neighbors=5)\n",
    "\n",
    "knn_model.fit(X_train_scaled, y_train)\n",
    "\n",
    "y_pred_knn = knn_model.predict(X_test_scaled)\n",
    "\n",
    "mse_knn = mean_squared_error(y_test, y_pred_knn)\n",
    "mae_knn = mean_absolute_error(y_test, y_pred_knn)\n",
    "r2_knn = r2_score(y_test, y_pred_knn)\n",
    "\n",
    "print(f'knn MSE: {mse_knn}')\n",
    "print(f'knn MAE: {mae_knn}')\n",
    "print(f'knn R2 Score: {r2_knn}')\n"
   ]
  }
 ],
 "metadata": {
  "accelerator": "GPU",
  "colab": {
   "gpuType": "T4",
   "provenance": []
  },
  "kernelspec": {
   "display_name": "Python 3 (ipykernel)",
   "language": "python",
   "name": "python3"
  },
  "language_info": {
   "codemirror_mode": {
    "name": "ipython",
    "version": 3
   },
   "file_extension": ".py",
   "mimetype": "text/x-python",
   "name": "python",
   "nbconvert_exporter": "python",
   "pygments_lexer": "ipython3",
   "version": "3.11.7"
  }
 },
 "nbformat": 4,
 "nbformat_minor": 4
}
